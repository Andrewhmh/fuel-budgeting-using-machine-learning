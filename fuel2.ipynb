{
 "cells": [
  {
   "cell_type": "code",
   "execution_count": 1,
   "id": "e28d6ef5-2d62-4fc8-9d42-37544940994d",
   "metadata": {},
   "outputs": [],
   "source": [
    "import numpy as np\n",
    "import pandas as pd\n",
    "import seaborn as sns\n",
    "import matplotlib.pyplot as plt\n",
    "from sklearn.impute import KNNImputer\n",
    "from sklearn.preprocessing import LabelEncoder\n",
    "from sklearn.preprocessing import StandardScaler\n",
    "from imblearn.over_sampling import RandomOverSampler\n",
    "from sklearn.model_selection import train_test_split"
   ]
  },
  {
   "cell_type": "code",
   "execution_count": 2,
   "id": "da5a31bc-4739-49ef-9bb1-5270a3f32bfd",
   "metadata": {},
   "outputs": [
    {
     "name": "stdout",
     "output_type": "stream",
     "text": [
      "                Timestamp       Date       Car  Fuel Money in (RM)  \\\n",
      "0 2024-12-12 18:42:51.017 2024-12-03   Persona               69.15   \n",
      "1 2025-01-08 18:01:07.762 2024-12-23   Persona               64.00   \n",
      "2 2025-01-08 18:02:20.773 2025-01-02  Persona                60.20   \n",
      "\n",
      "  Previous Driven Distance (KM)  Fuel Used  Fuel Price (RM/L) Petrol Station  \n",
      "0                             -         95               2.05          Shell  \n",
      "1                         239.9         95               2.05          Shell  \n",
      "2                         354.6         95               2.05       Petronas  \n"
     ]
    }
   ],
   "source": [
    "file_path = \"/Users/User/Downloads/Fuel used  (Responses).xlsx\"\n",
    "data = pd.read_excel(file_path, sheet_name='Form responses 1') \n",
    "\n",
    "print(data.head())"
   ]
  },
  {
   "cell_type": "code",
   "execution_count": 3,
   "id": "6cb00537-6ce9-4cbc-9968-c2e27c0889b6",
   "metadata": {},
   "outputs": [],
   "source": [
    "data = data.drop(['Timestamp'],axis=1)"
   ]
  },
  {
   "cell_type": "code",
   "execution_count": 4,
   "id": "4fc0f20a-99bf-40ad-b964-f03c1b05709f",
   "metadata": {},
   "outputs": [],
   "source": [
    "categorical_attributes = [\n",
    "   'Car','Fuel Used','Petrol Station'\n",
    "]\n",
    "numerical_attributes = [\n",
    "    'Litre','KM/L','Fuel Money in (RM)','Time Difference (Days)'\n",
    "]"
   ]
  },
  {
   "cell_type": "code",
   "execution_count": 5,
   "id": "bc66f902-1f31-4064-8c81-4a994a656c09",
   "metadata": {},
   "outputs": [],
   "source": [
    "# Step 2: Data Preprocessing\n",
    "# Ensure no missing values in non-predictable columns\n",
    "data.dropna(subset=['Fuel Money in (RM)', 'Fuel Price (RM/L)'], inplace=True)\n",
    "\n",
    "# Convert date to datetime\n",
    "data['Date'] = pd.to_datetime(data['Date'], errors='coerce')\n",
    "\n",
    "# Add a column for month and year (to group by month)\n",
    "data['Year-Month'] = data['Date'].dt.to_period('M')\n",
    "\n",
    "# Turn everything into lowercase\n",
    "data['Car'] = data['Car'].astype(str).str.lower().str.strip().str.replace(r'\\s+', '', regex=True)\n",
    "data['Fuel Used'] = data['Fuel Used'].astype(str).str.lower()\n",
    "data['Petrol Station'] = data['Petrol Station'].astype(str).str.lower()\n",
    "\n",
    "# Convert all values in the 'Previous Driven Distance (KM)' column to numeric, turning errors into NaN\n",
    "data['Previous Driven Distance (KM)'] = pd.to_numeric(data['Previous Driven Distance (KM)'], errors='coerce').fillna(0)\n",
    "\n",
    "# Ensure numeric columns are properly formatted\n",
    "numeric_cols = ['Fuel Money in (RM)', 'Previous Driven Distance (KM)', 'Fuel Price (RM/L)']\n",
    "data[numeric_cols] = data[numeric_cols].apply(pd.to_numeric, errors='coerce')"
   ]
  },
  {
   "cell_type": "code",
   "execution_count": 6,
   "id": "208c0913-c7e9-4231-8973-c056c480c3ae",
   "metadata": {},
   "outputs": [
    {
     "name": "stdout",
     "output_type": "stream",
     "text": [
      "        Date      Car  Fuel Money in (RM)  Previous Driven Distance (KM)  \\\n",
      "0 2024-12-03  persona               69.15                            0.0   \n",
      "1 2024-12-23  persona               64.00                          239.9   \n",
      "2 2025-01-02  persona               60.20                          354.6   \n",
      "\n",
      "  Fuel Used  Fuel Price (RM/L) Petrol Station Year-Month  Distance  \n",
      "0        95               2.05          shell    2024-12     239.9  \n",
      "1        95               2.05          shell    2024-12     354.6  \n",
      "2        95               2.05       petronas    2025-01       0.0  \n"
     ]
    }
   ],
   "source": [
    "# Convert 'Previous Driven Distance (KM)' to numeric, replacing non-numeric values with NaN\n",
    "data['Previous Driven Distance (KM)'] = pd.to_numeric(\n",
    "    data['Previous Driven Distance (KM)'], errors='coerce'\n",
    ")\n",
    "\n",
    "# Replace NaN with 0 (or handle it as needed)\n",
    "data['Previous Driven Distance (KM)'] = data['Previous Driven Distance (KM)'].fillna(0)\n",
    "\n",
    "# Perform the groupby and shift operation\n",
    "data['Distance'] = (\n",
    "    data.groupby('Car')['Previous Driven Distance (KM)']\n",
    "    .shift(-1)\n",
    "    .fillna(0)\n",
    "    .astype(float)\n",
    ")\n",
    "print(data)"
   ]
  },
  {
   "cell_type": "code",
   "execution_count": 7,
   "id": "ab614b46-0743-46ea-ae89-4926cfbc17f7",
   "metadata": {},
   "outputs": [
    {
     "name": "stdout",
     "output_type": "stream",
     "text": [
      "Latest Fuel Prices Based on the Data:\n",
      "{'95': 2.05}\n"
     ]
    }
   ],
   "source": [
    "# Extract the latest fuel price from the data\n",
    "latest_date = data['Date'].max()  # Find the most recent date\n",
    "latest_prices = data[data['Date'] == latest_date][['Fuel Used', 'Fuel Price (RM/L)']].drop_duplicates()\n",
    "\n",
    "# Convert to a dictionary for easy lookup\n",
    "latest_fuel_prices = dict(zip(latest_prices['Fuel Used'], latest_prices['Fuel Price (RM/L)']))\n",
    "print(\"Latest Fuel Prices Based on the Data:\")\n",
    "print(latest_fuel_prices)"
   ]
  },
  {
   "cell_type": "code",
   "execution_count": 8,
   "id": "a9c04ec0-4dc0-4750-a046-609468a4fa56",
   "metadata": {},
   "outputs": [
    {
     "name": "stdout",
     "output_type": "stream",
     "text": [
      "Index(['Date', 'Car', 'Fuel Money in (RM)', 'Previous Driven Distance (KM)',\n",
      "       'Fuel Used', 'Fuel Price (RM/L)', 'Petrol Station', 'Year-Month',\n",
      "       'Distance'],\n",
      "      dtype='object')\n"
     ]
    }
   ],
   "source": [
    "print(data.columns)"
   ]
  },
  {
   "cell_type": "code",
   "execution_count": 9,
   "id": "e4580aa2-4e84-4b49-8248-9a40f93767f7",
   "metadata": {},
   "outputs": [],
   "source": [
    "# Step 3: Feature Engineering for Time Duration and Label Encoding\n",
    "# Calculate the time difference in days between consecutive rows\n",
    "data['Time Difference (Days)'] = data['Date'].diff().dt.days.fillna(0)\n",
    "\n",
    "# Encode car model and fuel used as numerical for KNNImputer\n",
    "label_encoder_car = LabelEncoder()\n",
    "label_encoder_fuel = LabelEncoder()\n",
    "label_encoder_station = LabelEncoder()\n",
    "\n",
    "data['Car Model Encoded'] = label_encoder_car.fit_transform(data['Car'])\n",
    "data['Fuel Type Encoded'] = label_encoder_fuel.fit_transform(data['Fuel Used'])\n",
    "data['Petrol Station Encoded'] = label_encoder_station.fit_transform(data['Petrol Station'])"
   ]
  },
  {
   "cell_type": "code",
   "execution_count": 10,
   "id": "4465063e-d159-430d-8ea8-0c86bb377b48",
   "metadata": {},
   "outputs": [],
   "source": [
    "# Calculate Litre of fuel added in \n",
    "data['Litre'] = data['Fuel Money in (RM)'] / data['Fuel Price (RM/L)']\n",
    "data['KM/L'] = data['Distance']/data['Litre']"
   ]
  },
  {
   "cell_type": "code",
   "execution_count": 11,
   "id": "26bb2edd-3a7a-414d-8942-9b08d940c8c1",
   "metadata": {},
   "outputs": [
    {
     "name": "stdout",
     "output_type": "stream",
     "text": [
      "Fuel Efficiency by Car and Fuel Type:\n",
      "       Car Fuel Used  total_distance  total_fuel  avg_efficiency\n",
      "0  persona        95           594.5   94.317073        6.156761\n"
     ]
    }
   ],
   "source": [
    "# Separate contributions for each fuel type or brand\n",
    "fuel_efficiency_by_type = data.groupby(['Car', 'Fuel Used']).agg(\n",
    "    total_distance=('Distance', 'sum'),\n",
    "    total_fuel=('Litre', 'sum'),\n",
    "    avg_efficiency=('KM/L', 'mean')\n",
    ").reset_index()\n",
    "\n",
    "# Display calculated fuel efficiency\n",
    "print(\"Fuel Efficiency by Car and Fuel Type:\")\n",
    "print(fuel_efficiency_by_type)"
   ]
  },
  {
   "cell_type": "code",
   "execution_count": 12,
   "id": "9503757f-2609-474a-b171-a076198facd8",
   "metadata": {},
   "outputs": [],
   "source": [
    "# Create a figure with subplots\n",
    "#unique_cars = fuel_efficiency_by_type['Car'].unique()\n",
    "#num_cars = len(unique_cars)\n",
    "\n",
    "# Set up the subplot grid (1 row, as many columns as cars)\n",
    "#fig, axes = plt.subplots(1, num_cars, figsize=(15, 6), sharey=True)\n",
    "\n",
    "# Loop through each car model and plot\n",
    "#for i, car in enumerate(unique_cars):\n",
    "    #car_data = fuel_efficiency_by_type[fuel_efficiency_by_type['Car'] == car]\n",
    "    \n",
    "    # Create the barplot for this specific car model\n",
    "    #sns.barplot(data=car_data, x='Fuel Used', y='avg_efficiency', ax=axes[i])\n",
    "    \n",
    "    # Set the title and labels for each subplot\n",
    "   # axes[i].set_title(f'Fuel Efficiency for {car}')\n",
    "    #axes[i].set_xlabel('Fuel Type')\n",
    "    #axes[i].set_ylabel('Average Fuel Efficiency (KM/L)')\n",
    "\n",
    "# Adjust the layout to avoid overlap\n",
    "#plt.tight_layout()\n",
    "\n",
    "# Show the plot\n",
    "#plt.show()//"
   ]
  },
  {
   "cell_type": "code",
   "execution_count": 13,
   "id": "5f53eb94-295f-4d3d-be03-6a33739cd902",
   "metadata": {},
   "outputs": [
    {
     "data": {
      "image/png": "[encoded data removed]",
      "text/plain": [
       "<Figure size 1000x600 with 1 Axes>"
      ]
     },
     "metadata": {},
     "output_type": "display_data"
    }
   ],
   "source": [
    "# Create a barplot for average fuel efficiency by car model and fuel type\n",
    "plt.figure(figsize=(10, 6))\n",
    "sns.barplot(data=fuel_efficiency_by_type, x='Car', y='avg_efficiency', hue='Fuel Used')\n",
    "\n",
    "# Set the labels and title\n",
    "plt.title('Average Fuel Efficiency by Car Model and Fuel Type')\n",
    "plt.xlabel('Car Model')\n",
    "plt.ylabel('Average Fuel Efficiency (KM/L)')\n",
    "\n",
    "# Rotate x-axis labels for better readability if needed\n",
    "plt.xticks(rotation=45)\n",
    "\n",
    "# Show the plot\n",
    "plt.show()"
   ]
  },
  {
   "cell_type": "code",
   "execution_count": 14,
   "id": "febafb60-48a0-406e-a254-f6e43635aa73",
   "metadata": {},
   "outputs": [
    {
     "name": "stdout",
     "output_type": "stream",
     "text": [
      "        Date      Car  Fuel Money in (RM)  Previous Driven Distance (KM)  \\\n",
      "0 2024-12-03  persona               69.15                            0.0   \n",
      "1 2024-12-23  persona               64.00                          239.9   \n",
      "2 2025-01-02  persona               60.20                          354.6   \n",
      "\n",
      "  Fuel Used  Fuel Price (RM/L) Petrol Station Year-Month  Distance  \\\n",
      "0        95               2.05          shell    2024-12    239.90   \n",
      "1        95               2.05          shell    2024-12    354.60   \n",
      "2        95               2.05       petronas    2025-01    297.25   \n",
      "\n",
      "   Time Difference (Days)      Litre       KM/L  \n",
      "0                     0.0  33.731707   7.112003  \n",
      "1                    20.0  31.219512  11.358281  \n",
      "2                    10.0  29.365854   0.000000  \n"
     ]
    }
   ],
   "source": [
    "# Select relevant features: time difference, car model, fuel type, and fuel used\n",
    "features = ['Car Model Encoded', 'Fuel Type Encoded', 'Petrol Station Encoded']\n",
    "target = ['Distance']\n",
    "\n",
    "# Ensure all columns involved are numeric, replace non-numeric with NaN\n",
    "data[features + target] = data[features + target].apply(pd.to_numeric, errors='coerce')\n",
    "\n",
    "# Replace 0 in 'Distance' with np.nan to mark as missing value\n",
    "data['Distance'] = data['Distance'].replace(0, np.nan)\n",
    "\n",
    "# Use KNN Imputer to fill in the missing values for \"Previous Driven Distance\"\n",
    "imputer = KNNImputer(n_neighbors=3)\n",
    "\n",
    "# Impute missing values for both features and target (Distance)\n",
    "imputed_values = imputer.fit_transform(data[features + target])\n",
    "\n",
    "# Convert the imputed result back into a DataFrame\n",
    "imputed_df = pd.DataFrame(imputed_values, columns=features + target, index=data.index)\n",
    "\n",
    "# Fill the original DataFrame's 'Distance' column with imputed values\n",
    "data['Distance'] = imputed_df['Distance']\n",
    "\n",
    "# Drop the temporary encoded columns used for imputation\n",
    "data.drop(columns=['Car Model Encoded', 'Fuel Type Encoded', 'Petrol Station Encoded'], inplace=True)\n",
    "\n",
    "# Ensure that 'Distance' has no NaN values\n",
    "data['Distance'] = data['Distance'].fillna(0)\n",
    "\n",
    "# Check the result\n",
    "print(data.head())"
   ]
  },
  {
   "cell_type": "code",
   "execution_count": 15,
   "id": "106760bc-092a-46ac-b8b7-01f3a9dfffcd",
   "metadata": {},
   "outputs": [
    {
     "name": "stdout",
     "output_type": "stream",
     "text": [
      "  Year-Month      Car Fuel Used  total_distance  total_fuel  avg_efficiency\n",
      "0    2024-12  persona        95           239.9   64.951220        9.235142\n",
      "1    2025-01  persona        95           354.6   29.365854        0.000000\n"
     ]
    }
   ],
   "source": [
    "monthly_summary = data.groupby(['Year-Month', 'Car', 'Fuel Used']).agg(\n",
    "    total_distance=('Previous Driven Distance (KM)', 'sum'),\n",
    "    total_fuel=('Litre', 'sum'),\n",
    "    avg_efficiency=('KM/L', 'mean')\n",
    ").reset_index()\n",
    "\n",
    "print(monthly_summary)"
   ]
  },
  {
   "cell_type": "code",
   "execution_count": 16,
   "id": "1e7ba153-a772-4430-9317-1533cecad0c0",
   "metadata": {},
   "outputs": [],
   "source": [
    "def detect_and_handle_outliers(df, column):\n",
    "    Q1 = df[column].quantile(0.25) \n",
    "    Q3 = df[column].quantile(0.75) \n",
    "    IQR = Q3 - Q1                 \n",
    "    lower_bound = Q1 - 1.5 * IQR   \n",
    "    upper_bound = Q3 + 1.5 * IQR  \n",
    "    \n",
    "    outliers = (df[column] < lower_bound) | (df[column] > upper_bound)\n",
    "    \n",
    "    outlier_count = outliers.sum()\n",
    "    \n",
    "    median_value = df[column].median()\n",
    "    df.loc[outliers, column] = median_value\n",
    "    \n",
    "    return df, outlier_count "
   ]
  },
  {
   "cell_type": "code",
   "execution_count": 17,
   "id": "dd6b7665-a641-47dd-a4f2-c96c5c982906",
   "metadata": {},
   "outputs": [
    {
     "name": "stdout",
     "output_type": "stream",
     "text": [
      "Handling outliers for car model: ('persona', '95')\n",
      "Column               Fuel Money in (RM)  KM/L  Litre  Time Difference (Days)\n",
      "Car Model Fuel Used                                                         \n",
      "persona   95                          0     0      0                       0\n",
      "Total outliers handled across all car models: 0\n"
     ]
    }
   ],
   "source": [
    "# Initialize an empty list to store the results\n",
    "outlier_results = []\n",
    "\n",
    "total_outliers_handled = 0  \n",
    "for car_model, car_data in data.groupby(['Car','Fuel Used']):  \n",
    "    print(f\"Handling outliers for car model: {car_model}\")\n",
    "    \n",
    "    for col in numerical_attributes:\n",
    "        if col in car_data.columns:  \n",
    "            car_data, outliers_handled = detect_and_handle_outliers(car_data, col)\n",
    "            total_outliers_handled += outliers_handled  # Accumulate total outliers handled\n",
    "            \n",
    "            # Add the results to the list\n",
    "            outlier_results.append({\n",
    "                'Car Model': car_model[0],\n",
    "                'Fuel Used': car_model[1],\n",
    "                'Column': col,\n",
    "                'Outliers Handled': outliers_handled\n",
    "            })\n",
    "            \n",
    "    # Update the main DataFrame with the handled outliers for the current car model\n",
    "    data.update(car_data)\n",
    "\n",
    "# Convert the list of results to a DataFrame\n",
    "outlier_df = pd.DataFrame(outlier_results)\n",
    "\n",
    "# Pivot the table to show a table by car model and fuel used\n",
    "outlier_summary = outlier_df.pivot_table(index=['Car Model', 'Fuel Used'], columns='Column', values='Outliers Handled', aggfunc='sum', fill_value=0)\n",
    "\n",
    "# Display the summary\n",
    "print(outlier_summary)\n",
    "\n",
    "# Print the total number of outliers handled across all car models\n",
    "print(f\"Total outliers handled across all car models: {total_outliers_handled}\")"
   ]
  },
  {
   "cell_type": "code",
   "execution_count": 18,
   "id": "bd5816df-a4db-4349-8354-38d900f3333d",
   "metadata": {},
   "outputs": [
    {
     "name": "stdout",
     "output_type": "stream",
     "text": [
      "       Litre_scaled   KM/L_scaled  Fuel Money in (RM)_scaled  \\\n",
      "count  3.000000e+00  3.000000e+00               3.000000e+00   \n",
      "mean   6.661338e-16 -2.220446e-16              -7.401487e-17   \n",
      "std    1.224745e+00  1.224745e+00               1.224745e+00   \n",
      "min   -1.158780e+00 -1.313881e+00              -1.158780e+00   \n",
      "25%   -6.407370e-01 -5.550139e-01              -6.407370e-01   \n",
      "50%   -1.226943e-01  2.038528e-01              -1.226943e-01   \n",
      "75%    5.793899e-01  6.569403e-01               5.793899e-01   \n",
      "max    1.281474e+00  1.110028e+00               1.281474e+00   \n",
      "\n",
      "       Time Difference (Days)_scaled  \n",
      "count                       3.000000  \n",
      "mean                        0.000000  \n",
      "std                         1.224745  \n",
      "min                        -1.224745  \n",
      "25%                        -0.612372  \n",
      "50%                         0.000000  \n",
      "75%                         0.612372  \n",
      "max                         1.224745  \n"
     ]
    }
   ],
   "source": [
    "# Check for infinite values and replace them\n",
    "data.replace([np.inf, -np.inf], np.nan, inplace=True)\n",
    "\n",
    "# Standardize Numerical Variables\n",
    "scaler = StandardScaler()\n",
    "scaled_columns = [f\"{col}_scaled\" for col in numerical_attributes]  \n",
    "data[scaled_columns] = scaler.fit_transform(data[numerical_attributes])\n",
    "\n",
    "print(data[scaled_columns].describe())"
   ]
  },
  {
   "cell_type": "code",
   "execution_count": 19,
   "id": "ca6bc14a-dd88-44ad-ab7e-fd7ed788ba16",
   "metadata": {},
   "outputs": [
    {
     "name": "stdout",
     "output_type": "stream",
     "text": [
      "Index(['Date', 'Fuel Money in (RM)', 'Previous Driven Distance (KM)',\n",
      "       'Fuel Price (RM/L)', 'Year-Month', 'Distance', 'Time Difference (Days)',\n",
      "       'Litre', 'KM/L', 'Litre_scaled', 'KM/L_scaled',\n",
      "       'Fuel Money in (RM)_scaled', 'Time Difference (Days)_scaled',\n",
      "       'Car_persona', 'Fuel Used_95', 'Petrol Station_petronas',\n",
      "       'Petrol Station_shell'],\n",
      "      dtype='object')\n"
     ]
    }
   ],
   "source": [
    "# Encode categorical variables\n",
    "data = pd.get_dummies(\n",
    "    data,\n",
    "    columns=categorical_attributes, \n",
    "    drop_first=False)\n",
    "\n",
    "print(data.columns)"
   ]
  },
  {
   "cell_type": "code",
   "execution_count": 20,
   "id": "5292b262-c0e3-4b1b-9b56-f4d8fd29e6b1",
   "metadata": {},
   "outputs": [],
   "source": [
    "target_variable = 'Distance'"
   ]
  },
  {
   "cell_type": "code",
   "execution_count": 21,
   "id": "f6eb0925-f901-48c1-a2e6-6e2977465732",
   "metadata": {},
   "outputs": [
    {
     "name": "stdout",
     "output_type": "stream",
     "text": [
      "Training Features: (2, 16)\n",
      "Test Features: (1, 16)\n",
      "Training Target: (2,)\n",
      "Test Target: (1,)\n"
     ]
    }
   ],
   "source": [
    "# Split the data into features (X) and target (y)\n",
    "X = data.drop(columns=[target_variable])  \n",
    "y = data[target_variable]\n",
    "\n",
    "# Split the data\n",
    "X_train, X_test, y_train, y_test = train_test_split(\n",
    "    X, y, \n",
    "    test_size=0.3,     # 30% test data\n",
    "    random_state=42    # Set a random seed for reproducibility\n",
    ")\n",
    "\n",
    "# Print the shapes of the resulting datasets\n",
    "print(f\"Training Features: {X_train.shape}\")\n",
    "print(f\"Test Features: {X_test.shape}\")\n",
    "print(f\"Training Target: {y_train.shape}\")\n",
    "print(f\"Test Target: {y_test.shape}\")"
   ]
  },
  {
   "cell_type": "code",
   "execution_count": 22,
   "id": "bd3a045c-0942-42ea-adfd-3000c1ef1de6",
   "metadata": {},
   "outputs": [],
   "source": [
    "from keras.layers import Input\n",
    "from keras.layers import Dense\n",
    "from keras.models import Sequential\n",
    "from sklearn.impute import SimpleImputer\n",
    "from sklearn.naive_bayes import GaussianNB\n",
    "from sklearn.pipeline import make_pipeline\n",
    "from sklearn.tree import DecisionTreeRegressor\n",
    "from sklearn.preprocessing import LabelEncoder\n",
    "from sklearn.neighbors import KNeighborsRegressor\n",
    "from sklearn.linear_model import LinearRegression\n",
    "from sklearn.ensemble import RandomForestRegressor\n",
    "from sklearn.metrics import mean_absolute_error, mean_squared_error, r2_score\n",
    "from sklearn.metrics import accuracy_score, precision_score, recall_score, f1_score, roc_auc_score, roc_curve"
   ]
  },
  {
   "cell_type": "code",
   "execution_count": 24,
   "id": "a295641a-4db4-43c5-b457-d572d3a15a82",
   "metadata": {},
   "outputs": [],
   "source": [
    "# Initialize regression models\n",
    "models = {\n",
    "    \"Linear Regression\": make_pipeline(StandardScaler(), LinearRegression()),\n",
    "    \"Decision Tree Regressor\": make_pipeline(StandardScaler(), DecisionTreeRegressor()),\n",
    "    \"Random Forest Regressor\": make_pipeline(StandardScaler(), RandomForestRegressor(n_estimators=100)),\n",
    "    \"KNN Regressor\": make_pipeline(StandardScaler(), KNeighborsRegressor(n_neighbors=5))\n",
    "}"
   ]
  },
  {
   "cell_type": "code",
   "execution_count": 26,
   "id": "8c60e9f8-01a5-463a-8336-71941abe5ece",
   "metadata": {},
   "outputs": [
    {
     "name": "stdout",
     "output_type": "stream",
     "text": [
      "Date                             0\n",
      "Fuel Money in (RM)               0\n",
      "Previous Driven Distance (KM)    0\n",
      "Fuel Price (RM/L)                0\n",
      "Year-Month                       0\n",
      "Time Difference (Days)           0\n",
      "Litre                            0\n",
      "KM/L                             0\n",
      "Litre_scaled                     0\n",
      "KM/L_scaled                      0\n",
      "Fuel Money in (RM)_scaled        0\n",
      "Time Difference (Days)_scaled    0\n",
      "Car_persona                      0\n",
      "Fuel Used_95                     0\n",
      "Petrol Station_petronas          0\n",
      "Petrol Station_shell             0\n",
      "dtype: int64\n",
      "Date                             0\n",
      "Fuel Money in (RM)               0\n",
      "Previous Driven Distance (KM)    0\n",
      "Fuel Price (RM/L)                0\n",
      "Year-Month                       0\n",
      "Time Difference (Days)           0\n",
      "Litre                            0\n",
      "KM/L                             0\n",
      "Litre_scaled                     0\n",
      "KM/L_scaled                      0\n",
      "Fuel Money in (RM)_scaled        0\n",
      "Time Difference (Days)_scaled    0\n",
      "Car_persona                      0\n",
      "Fuel Used_95                     0\n",
      "Petrol Station_petronas          0\n",
      "Petrol Station_shell             0\n",
      "dtype: int64\n"
     ]
    }
   ],
   "source": [
    "print(X_train.isna().sum())\n",
    "print(X_test.isna().sum())"
   ]
  },
  {
   "cell_type": "code",
   "execution_count": 28,
   "id": "5e0da8b9-f32b-4824-b2e0-4c630a3ff8c5",
   "metadata": {},
   "outputs": [
    {
     "name": "stderr",
     "output_type": "stream",
     "text": [
      "C:\\Users\\User\\anaconda3\\Lib\\site-packages\\sklearn\\metrics\\_regression.py:1211: UndefinedMetricWarning: R^2 score is not well-defined with less than two samples.\n",
      "  warnings.warn(msg, UndefinedMetricWarning)\n",
      "C:\\Users\\User\\anaconda3\\Lib\\site-packages\\sklearn\\metrics\\_regression.py:1211: UndefinedMetricWarning: R^2 score is not well-defined with less than two samples.\n",
      "  warnings.warn(msg, UndefinedMetricWarning)\n",
      "C:\\Users\\User\\anaconda3\\Lib\\site-packages\\sklearn\\metrics\\_regression.py:1211: UndefinedMetricWarning: R^2 score is not well-defined with less than two samples.\n",
      "  warnings.warn(msg, UndefinedMetricWarning)\n"
     ]
    },
    {
     "ename": "ValueError",
     "evalue": "Expected n_neighbors <= n_samples_fit, but n_neighbors = 5, n_samples_fit = 2, n_samples = 1",
     "output_type": "error",
     "traceback": [
      "\u001b[1;31m---------------------------------------------------------------------------\u001b[0m",
      "\u001b[1;31mValueError\u001b[0m                                Traceback (most recent call last)",
      "Cell \u001b[1;32mIn[28], line 14\u001b[0m\n\u001b[0;32m     12\u001b[0m \u001b[38;5;28;01mfor\u001b[39;00m name, model \u001b[38;5;129;01min\u001b[39;00m models\u001b[38;5;241m.\u001b[39mitems():\n\u001b[0;32m     13\u001b[0m     model\u001b[38;5;241m.\u001b[39mfit(X_train, y_train)\n\u001b[1;32m---> 14\u001b[0m     y_pred \u001b[38;5;241m=\u001b[39m model\u001b[38;5;241m.\u001b[39mpredict(X_test)\n\u001b[0;32m     16\u001b[0m     \u001b[38;5;66;03m# Calculate regression metrics\u001b[39;00m\n\u001b[0;32m     17\u001b[0m     mae \u001b[38;5;241m=\u001b[39m mean_absolute_error(y_test, y_pred)\n",
      "File \u001b[1;32m~\\anaconda3\\Lib\\site-packages\\sklearn\\pipeline.py:601\u001b[0m, in \u001b[0;36mPipeline.predict\u001b[1;34m(self, X, **params)\u001b[0m\n\u001b[0;32m    599\u001b[0m     \u001b[38;5;28;01mfor\u001b[39;00m _, name, transform \u001b[38;5;129;01min\u001b[39;00m \u001b[38;5;28mself\u001b[39m\u001b[38;5;241m.\u001b[39m_iter(with_final\u001b[38;5;241m=\u001b[39m\u001b[38;5;28;01mFalse\u001b[39;00m):\n\u001b[0;32m    600\u001b[0m         Xt \u001b[38;5;241m=\u001b[39m transform\u001b[38;5;241m.\u001b[39mtransform(Xt)\n\u001b[1;32m--> 601\u001b[0m     \u001b[38;5;28;01mreturn\u001b[39;00m \u001b[38;5;28mself\u001b[39m\u001b[38;5;241m.\u001b[39msteps[\u001b[38;5;241m-\u001b[39m\u001b[38;5;241m1\u001b[39m][\u001b[38;5;241m1\u001b[39m]\u001b[38;5;241m.\u001b[39mpredict(Xt, \u001b[38;5;241m*\u001b[39m\u001b[38;5;241m*\u001b[39mparams)\n\u001b[0;32m    603\u001b[0m \u001b[38;5;66;03m# metadata routing enabled\u001b[39;00m\n\u001b[0;32m    604\u001b[0m routed_params \u001b[38;5;241m=\u001b[39m process_routing(\u001b[38;5;28mself\u001b[39m, \u001b[38;5;124m\"\u001b[39m\u001b[38;5;124mpredict\u001b[39m\u001b[38;5;124m\"\u001b[39m, \u001b[38;5;241m*\u001b[39m\u001b[38;5;241m*\u001b[39mparams)\n",
      "File \u001b[1;32m~\\anaconda3\\Lib\\site-packages\\sklearn\\neighbors\\_regression.py:242\u001b[0m, in \u001b[0;36mKNeighborsRegressor.predict\u001b[1;34m(self, X)\u001b[0m\n\u001b[0;32m    226\u001b[0m \u001b[38;5;250m\u001b[39m\u001b[38;5;124;03m\"\"\"Predict the target for the provided data.\u001b[39;00m\n\u001b[0;32m    227\u001b[0m \n\u001b[0;32m    228\u001b[0m \u001b[38;5;124;03mParameters\u001b[39;00m\n\u001b[1;32m   (...)\u001b[0m\n\u001b[0;32m    237\u001b[0m \u001b[38;5;124;03m    Target values.\u001b[39;00m\n\u001b[0;32m    238\u001b[0m \u001b[38;5;124;03m\"\"\"\u001b[39;00m\n\u001b[0;32m    239\u001b[0m \u001b[38;5;28;01mif\u001b[39;00m \u001b[38;5;28mself\u001b[39m\u001b[38;5;241m.\u001b[39mweights \u001b[38;5;241m==\u001b[39m \u001b[38;5;124m\"\u001b[39m\u001b[38;5;124muniform\u001b[39m\u001b[38;5;124m\"\u001b[39m:\n\u001b[0;32m    240\u001b[0m     \u001b[38;5;66;03m# In that case, we do not need the distances to perform\u001b[39;00m\n\u001b[0;32m    241\u001b[0m     \u001b[38;5;66;03m# the weighting so we do not compute them.\u001b[39;00m\n\u001b[1;32m--> 242\u001b[0m     neigh_ind \u001b[38;5;241m=\u001b[39m \u001b[38;5;28mself\u001b[39m\u001b[38;5;241m.\u001b[39mkneighbors(X, return_distance\u001b[38;5;241m=\u001b[39m\u001b[38;5;28;01mFalse\u001b[39;00m)\n\u001b[0;32m    243\u001b[0m     neigh_dist \u001b[38;5;241m=\u001b[39m \u001b[38;5;28;01mNone\u001b[39;00m\n\u001b[0;32m    244\u001b[0m \u001b[38;5;28;01melse\u001b[39;00m:\n",
      "File \u001b[1;32m~\\anaconda3\\Lib\\site-packages\\sklearn\\neighbors\\_base.py:834\u001b[0m, in \u001b[0;36mKNeighborsMixin.kneighbors\u001b[1;34m(self, X, n_neighbors, return_distance)\u001b[0m\n\u001b[0;32m    832\u001b[0m     \u001b[38;5;28;01melse\u001b[39;00m:\n\u001b[0;32m    833\u001b[0m         inequality_str \u001b[38;5;241m=\u001b[39m \u001b[38;5;124m\"\u001b[39m\u001b[38;5;124mn_neighbors <= n_samples_fit\u001b[39m\u001b[38;5;124m\"\u001b[39m\n\u001b[1;32m--> 834\u001b[0m     \u001b[38;5;28;01mraise\u001b[39;00m \u001b[38;5;167;01mValueError\u001b[39;00m(\n\u001b[0;32m    835\u001b[0m         \u001b[38;5;124mf\u001b[39m\u001b[38;5;124m\"\u001b[39m\u001b[38;5;124mExpected \u001b[39m\u001b[38;5;132;01m{\u001b[39;00minequality_str\u001b[38;5;132;01m}\u001b[39;00m\u001b[38;5;124m, but \u001b[39m\u001b[38;5;124m\"\u001b[39m\n\u001b[0;32m    836\u001b[0m         \u001b[38;5;124mf\u001b[39m\u001b[38;5;124m\"\u001b[39m\u001b[38;5;124mn_neighbors = \u001b[39m\u001b[38;5;132;01m{\u001b[39;00mn_neighbors\u001b[38;5;132;01m}\u001b[39;00m\u001b[38;5;124m, n_samples_fit = \u001b[39m\u001b[38;5;132;01m{\u001b[39;00mn_samples_fit\u001b[38;5;132;01m}\u001b[39;00m\u001b[38;5;124m, \u001b[39m\u001b[38;5;124m\"\u001b[39m\n\u001b[0;32m    837\u001b[0m         \u001b[38;5;124mf\u001b[39m\u001b[38;5;124m\"\u001b[39m\u001b[38;5;124mn_samples = \u001b[39m\u001b[38;5;132;01m{\u001b[39;00mX\u001b[38;5;241m.\u001b[39mshape[\u001b[38;5;241m0\u001b[39m]\u001b[38;5;132;01m}\u001b[39;00m\u001b[38;5;124m\"\u001b[39m  \u001b[38;5;66;03m# include n_samples for common tests\u001b[39;00m\n\u001b[0;32m    838\u001b[0m     )\n\u001b[0;32m    840\u001b[0m n_jobs \u001b[38;5;241m=\u001b[39m effective_n_jobs(\u001b[38;5;28mself\u001b[39m\u001b[38;5;241m.\u001b[39mn_jobs)\n\u001b[0;32m    841\u001b[0m chunked_results \u001b[38;5;241m=\u001b[39m \u001b[38;5;28;01mNone\u001b[39;00m\n",
      "\u001b[1;31mValueError\u001b[0m: Expected n_neighbors <= n_samples_fit, but n_neighbors = 5, n_samples_fit = 2, n_samples = 1"
     ]
    }
   ],
   "source": [
    "non_numeric_columns = ['Date', 'Year-Month']  # Adjust based on your dataset\n",
    "X_train = X_train.drop(columns=non_numeric_columns, errors='ignore')\n",
    "X_test = X_test.drop(columns=non_numeric_columns, errors='ignore')\n",
    "\n",
    "# Handle missing values with imputation\n",
    "imputer = SimpleImputer(strategy=\"mean\")  # Replace missing values with the mean\n",
    "X_train = pd.DataFrame(imputer.fit_transform(X_train), columns=X_train.columns)\n",
    "X_test = pd.DataFrame(imputer.transform(X_test), columns=X_test.columns)\n",
    "\n",
    "# Train and evaluate regression models\n",
    "model_results = {}\n",
    "for name, model in models.items():\n",
    "    model.fit(X_train, y_train)\n",
    "    y_pred = model.predict(X_test)\n",
    "    \n",
    "    # Calculate regression metrics\n",
    "    mae = mean_absolute_error(y_test, y_pred)\n",
    "    mse = mean_squared_error(y_test, y_pred)\n",
    "    r2 = r2_score(y_test, y_pred)\n",
    "    \n",
    "    # Store results\n",
    "    model_results[name] = {\n",
    "        \"MAE\": mae,\n",
    "        \"MSE\": mse,\n",
    "        \"R²\": r2\n",
    "    }\n",
    "\n",
    "# Display results\n",
    "for name, metrics in model_results.items():\n",
    "    print(f\"{name}:\")\n",
    "    for metric, value in metrics.items():\n",
    "        print(f\"  {metric}: {value:.4f}\")"
   ]
  },
  {
   "cell_type": "code",
   "execution_count": 30,
   "id": "7127d84f-013a-477a-a727-4b98e819127c",
   "metadata": {},
   "outputs": [
    {
     "name": "stdout",
     "output_type": "stream",
     "text": [
      "\u001b[1m1/1\u001b[0m \u001b[32m━━━━━━━━━━━━━━━━━━━━\u001b[0m\u001b[37m\u001b[0m \u001b[1m0s\u001b[0m 40ms/step\n"
     ]
    },
    {
     "name": "stderr",
     "output_type": "stream",
     "text": [
      "C:\\Users\\User\\anaconda3\\Lib\\site-packages\\sklearn\\metrics\\_regression.py:1211: UndefinedMetricWarning: R^2 score is not well-defined with less than two samples.\n",
      "  warnings.warn(msg, UndefinedMetricWarning)\n"
     ]
    }
   ],
   "source": [
    "# Train and evaluate ANN\n",
    "ann_model = Sequential()\n",
    "ann_model.add(Input(shape=(X_train.shape[1],)))\n",
    "ann_model.add(Dense(32, activation='relu'))\n",
    "ann_model.add(Dense(16, activation='relu'))\n",
    "ann_model.add(Dense(1, activation='linear'))  # Linear activation for regression\n",
    "ann_model.compile(optimizer='adam', loss='mean_squared_error', metrics=['mae'])\n",
    "\n",
    "ann_model.fit(X_train, y_train, epochs=50, batch_size=32, verbose=0, validation_split=0.2)\n",
    "ann_pred = ann_model.predict(X_test)\n",
    "\n",
    "# Calculate ANN regression metrics\n",
    "ann_mae = mean_absolute_error(y_test, ann_pred)\n",
    "ann_mse = mean_squared_error(y_test, ann_pred)\n",
    "ann_r2 = r2_score(y_test, ann_pred)\n",
    "\n",
    "# Store ANN results\n",
    "model_results[\"ANN\"] = {\n",
    "    \"MAE\": ann_mae,\n",
    "    \"MSE\": ann_mse,\n",
    "    \"R²\": ann_r2\n",
    "}"
   ]
  },
  {
   "cell_type": "code",
   "execution_count": 31,
   "id": "c0f63ae5-a369-4ea0-a538-9698a270ed36",
   "metadata": {},
   "outputs": [
    {
     "name": "stdout",
     "output_type": "stream",
     "text": [
      "                                MAE           MSE  R²\n",
      "Linear Regression        129.115175  16670.728434 NaN\n",
      "Decision Tree Regressor   57.350000   3289.022500 NaN\n",
      "Random Forest Regressor   94.054000   8846.154916 NaN\n",
      "ANN                      220.906031  48799.474548 NaN\n"
     ]
    }
   ],
   "source": [
    "# Summarize results in a DataFrame\n",
    "results_df = pd.DataFrame(model_results).T\n",
    "print(results_df)"
   ]
  },
  {
   "cell_type": "code",
   "execution_count": 34,
   "id": "d9ba60ad-29a3-41ed-8f77-6a5d2aa48e8b",
   "metadata": {},
   "outputs": [
    {
     "data": {
      "image/png": "[encoded data removed]",
      "text/plain": [
       "<Figure size 1000x600 with 1 Axes>"
      ]
     },
     "metadata": {},
     "output_type": "display_data"
    }
   ],
   "source": [
    "# Plot model accuracies\n",
    "plt.figure(figsize=(10, 6))\n",
    "plt.bar(model_results.keys(), [v[\"MAE\"] for v in model_results.values()], color='skyblue')\n",
    "plt.xlabel(\"Models\")\n",
    "plt.ylabel(\"MAE\")\n",
    "plt.title(\"Comparison of Model Accuracies\")\n",
    "plt.show()"
   ]
  },
  {
   "cell_type": "code",
   "execution_count": 40,
   "id": "98fa7887-cd38-4239-95e4-92d9bfb6149e",
   "metadata": {},
   "outputs": [],
   "source": [
    "trained_models = {\n",
    "    \"Linear Regression\": models[\"Linear Regression\"],\n",
    "    \"Decision Tree Regressor\": models[\"Decision Tree Regressor\"],\n",
    "    \"Random Forest Regressor\": models[\"Random Forest Regressor\"],\n",
    "    \"KNN Regressor\": models[\"KNN Regressor\"],\n",
    "    \"ANN\": ann_model\n",
    "}"
   ]
  },
  {
   "cell_type": "code",
   "execution_count": 42,
   "id": "f206c3a7-a7b0-4d81-8c24-82ef2c01d2f8",
   "metadata": {},
   "outputs": [
    {
     "name": "stdout",
     "output_type": "stream",
     "text": [
      "The best model is Decision Tree Regressor with an MAE of 57.3500.\n"
     ]
    }
   ],
   "source": [
    "# Select and justify the best model\n",
    "best_model_key = min(model_results, key=lambda k: model_results[k][\"MAE\"])\n",
    "best_model = trained_models[best_model_key]\n",
    "\n",
    "# Print the best model and its performance\n",
    "print(f\"The best model is {best_model_key} with an MAE of {model_results[best_model_key]['MAE']:.4f}.\")"
   ]
  },
  {
   "cell_type": "code",
   "execution_count": 44,
   "id": "edd2ac60-b2e6-4b51-81d2-1b3c7f0424a0",
   "metadata": {},
   "outputs": [],
   "source": [
    "# Step 2: Prepare future data for prediction\n",
    "time_difference = 30  # Days in the next month"
   ]
  },
  {
   "cell_type": "code",
   "execution_count": 71,
   "id": "732b7bff-7d45-44b3-8fa2-5661bea31e54",
   "metadata": {},
   "outputs": [],
   "source": [
    "fuel_budget_data = []\n",
    "\n",
    "for _, row in fuel_efficiency_by_type.iterrows():\n",
    "    car = row['Car']\n",
    "    fuel = row['Fuel Used']\n",
    "    total_distance = row['total_distance']\n",
    "    avg_efficiency = row['avg_efficiency']\n",
    "    \n",
    "    # Encode categorical variables\n",
    "    feature_vector_dict = default_feature_vector.copy()\n",
    "    feature_vector_dict[f'Car_{car}'] = 1  # Set the one-hot column for car\n",
    "    feature_vector_dict[f'Fuel Used_{fuel}'] = 1  # Set the one-hot column for fuel\n",
    "    \n",
    "    # Add numerical features\n",
    "    feature_vector_dict['distance'] = total_distance\n",
    "    feature_vector_dict['avg_efficiency'] = avg_efficiency\n",
    "    \n",
    "    # Create a DataFrame and align with training columns\n",
    "    feature_vector = pd.DataFrame([feature_vector_dict])\n",
    "    feature_vector = feature_vector[X_train.columns]  # Match column order\n",
    "\n",
    "    # Predict distance for the upcoming month\n",
    "    predicted_distance = best_model.predict(feature_vector)[0]\n",
    "    \n",
    "    # Calculate litres needed based on average efficiency\n",
    "    litres_needed = predicted_distance / avg_efficiency if avg_efficiency > 0 else 0\n",
    "    \n",
    "    # Lookup fuel price for the specific fuel type\n",
    "    fuel_price = latest_fuel_prices.get(fuel, 0)\n",
    "    \n",
    "    # Calculate the fuel budget\n",
    "    fuel_budget = litres_needed * fuel_price\n",
    "    \n",
    "    # Store results\n",
    "    fuel_budget_data.append({\n",
    "        'Car': car,\n",
    "        'Fuel Used': fuel,\n",
    "        'Predicted Distance (KM)': predicted_distance,\n",
    "        'Litres Needed': litres_needed,\n",
    "        'Fuel Price (RM/L)': fuel_price,\n",
    "        'Fuel Budget (RM)': fuel_budget,\n",
    "    })"
   ]
  },
  {
   "cell_type": "code",
   "execution_count": 73,
   "id": "6faa185e-994b-4964-92ba-bb451652f484",
   "metadata": {},
   "outputs": [
    {
     "name": "stdout",
     "output_type": "stream",
     "text": [
      "\n",
      "Predicted Fuel Budget with Average and Predicted Distance:\n",
      "    Car Fuel Used  Predicted Distance (KM)  Litres Needed  Fuel Price (RM/L)  Fuel Budget (RM)\n",
      "persona        95                   297.25      48.280253               2.05          98.97452\n"
     ]
    }
   ],
   "source": [
    "# Step 3: Convert to DataFrame\n",
    "fuel_budget_df = pd.DataFrame(fuel_budget_data)\n",
    "\n",
    "# Step 4: Display Results\n",
    "print(\"\\nPredicted Fuel Budget with Average and Predicted Distance:\")\n",
    "print(fuel_budget_df.to_string(index=False)) "
   ]
  },
  {
   "cell_type": "code",
   "execution_count": null,
   "id": "6dadba23-e0ae-4d42-9259-33b2b407b40f",
   "metadata": {},
   "outputs": [],
   "source": []
  }
 ],
 "metadata": {
  "kernelspec": {
   "display_name": "Python 3 (ipykernel)",
   "language": "python",
   "name": "python3"
  },
  "language_info": {
   "codemirror_mode": {
    "name": "ipython",
    "version": 3
   },
   "file_extension": ".py",
   "mimetype": "text/x-python",
   "name": "python",
   "nbconvert_exporter": "python",
   "pygments_lexer": "ipython3",
   "version": "3.12.7"
  }
 },
 "nbformat": 4,
 "nbformat_minor": 5
}
